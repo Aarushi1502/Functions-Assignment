{
  "nbformat": 4,
  "nbformat_minor": 0,
  "metadata": {
    "colab": {
      "provenance": []
    },
    "kernelspec": {
      "name": "python3",
      "display_name": "Python 3"
    },
    "language_info": {
      "name": "python"
    }
  },
  "cells": [
    {
      "cell_type": "markdown",
      "source": [
        "# Function Assignment1\n",
        "\n",
        "1. What is the difference between a function and a method in Python?\n",
        "\n",
        "  - A function is a standalone block of reusable code, while a method is associated with an object and operates on that object.\n",
        " - Example:\n",
        "  \n",
        "          - # Function\n",
        "                def greet():\n",
        "                  return \"Hello!\"\n",
        "\n",
        "          - # Method\n",
        "                class Greeter:\n",
        "                  def greet(self):\n",
        "                    return \"Hello!\"\n",
        "2. Explain the concept of function arguments and parameters in Python.\n",
        "\n",
        "    - Parameters are placeholders in a function definition. Arguments are actual values passed to the function.\n",
        "    - Example:\n",
        "          def add(a, b):  # a, b are parameters\n",
        "             return a + b\n",
        "\n",
        "          print(add(2, 3))  # 2, 3 are arguments\n",
        "3. What are the different ways to define and call a function in Python?\n",
        "\n",
        "    - Functions can be defined with default arguments, variable-length arguments, or as anonymous functions.\n",
        "    - Example:\n",
        "\n",
        "          def greet(name=\"Guest\"):\n",
        "            return f\"Hello, {name}!\"\n",
        "\n",
        "          print(greet())          # Default argument\n",
        "          print(greet(\"Alice\"))   # Argument provided\n",
        "4. What is the purpose of the return statement in a Python function?\n",
        "\n",
        "    - The return statement allows a function to send a value back to the caller.\n",
        "    - Example:\n",
        "\n",
        "          def square(x):\n",
        "            return x * x\n",
        "          print(square(4))  # Output: 16\n",
        "5. What are iterators in Python, and how do they differ from iterables?\n",
        "\n",
        "    - Iterable: An object capable of returning its members one at a time (e.g., list, tuple).\n",
        "      Iterator: An object that produces values lazily using __next__().\n",
        "    - Example:\n",
        "\n",
        "          lst = [1, 2, 3]          # Iterable\n",
        "          iterator = iter(lst)     # Iterator\n",
        "          print(next(iterator))    # Output: 1\n",
        "6. Explain the concept of generators in Python and how they are defined.\n",
        "\n",
        "    - Generators are special functions using yield to produce values one at a time, preserving state between calls.\n",
        "    - Example:\n",
        "\n",
        "          def gen():\n",
        "            yield 1\n",
        "            yield 2\n",
        "7. What are the advantages of using generators over regular functions?\n",
        "\n",
        "    - Memory efficiency: They generate items lazily.\n",
        "    - Example: Reading large files line by line without loading the entire file into memory.\n",
        "8. What is a lambda function in Python, and when is it typically used?\n",
        "\n",
        "    - A lambda function is an anonymous, single-expression function used for concise operations.\n",
        "    - Example:\n",
        "\n",
        "          square = lambda x: x * x\n",
        "          print(square(5))  # Output: 25\n",
        "9. Explain the purpose and usage of the map() function in Python.\n",
        "\n",
        "    - map() applies a function to each item of an iterable.\n",
        "    - Example:\n",
        "\n",
        "          nums = [1, 2, 3]\n",
        "          print(list(map(lambda x: x * x, nums)))  # Output: [1, 4, 9]\n",
        "10. What is the difference between map(), reduce(), and filter() functions in Python?\n",
        "\n",
        "    - map(): Transforms each item in an iterable.\n",
        "    - filter(): Filters items based on a condition.\n",
        "    - reduce(): Aggregates items into a single result.\n",
        "    - Example:\n",
        "\n",
        "          from functools import reduce\n",
        "\n",
        "          nums = [1, 2, 3, 4]\n",
        "          print(list(map(lambda x: x * x, nums)))          # [1, 4, 9, 16]\n",
        "          print(list(filter(lambda x: x % 2 == 0, nums))) # [2, 4]\n",
        "          print(reduce(lambda x, y: x + y, nums))         # 10\n"
      ],
      "metadata": {
        "id": "u6aDelNcPK1T"
      }
    },
    {
      "cell_type": "code",
      "source": [
        "# 1. Write a Python function that takes a list of numbers as input and returns the sum of all even numbers in the list.\n",
        "\n",
        "def sum_even(lst):\n",
        "    return sum(x for x in lst if x % 2 == 0)\n",
        "\n",
        "# Example\n",
        "print(sum_even([1, 2, 3, 4]))  # Output: 6\n"
      ],
      "metadata": {
        "id": "6_4Z8cln823u"
      },
      "execution_count": null,
      "outputs": []
    },
    {
      "cell_type": "code",
      "source": [
        "# 2. Create a Python function that accepts a string and returns the reverse of that string.\n",
        "\n",
        "def reverse_string(s):\n",
        "    return s[::-1]\n",
        "\n",
        "# Example\n",
        "print(reverse_string(\"Python\"))  # Output: nohtyP"
      ],
      "metadata": {
        "id": "4tZJ5EI-7mG7"
      },
      "execution_count": null,
      "outputs": []
    },
    {
      "cell_type": "code",
      "source": [
        "# 3. Implement a Python function that takes a list of integers and returns a new list containing the squares of each number.\n",
        "\n",
        "def squares(lst):\n",
        "    return [x**2 for x in lst]\n",
        "\n",
        "# Example\n",
        "print(squares([1, 2, 3]))  # Output: [1, 4, 9]\n"
      ],
      "metadata": {
        "id": "gYtvnhMm9qQo"
      },
      "execution_count": null,
      "outputs": []
    },
    {
      "cell_type": "code",
      "source": [
        "# 4. Write a Python function that checks if a given number is prime or not from 1 to 200.\n",
        "\n",
        "def is_prime(num):\n",
        "    if num < 2:\n",
        "        return False\n",
        "    for i in range(2, int(num**0.5) + 1):\n",
        "        if num % i == 0:\n",
        "            return False\n",
        "    return True\n",
        "\n",
        "# Example\n",
        "print(is_prime(7))  # Output: True\n"
      ],
      "metadata": {
        "id": "4ZhpLzDn9x5Q"
      },
      "execution_count": null,
      "outputs": []
    },
    {
      "cell_type": "code",
      "source": [
        "# 5. Create an iterator class in Python that generates the Fibonacci sequence up to a specified number of terms.\n",
        "\n",
        "class Fibonacci:\n",
        "    def __init__(self, n):\n",
        "        self.n = n\n",
        "        self.a, self.b = 0, 1\n",
        "        self.index = 0\n",
        "\n",
        "    def __iter__(self):\n",
        "        return self\n",
        "\n",
        "    def __next__(self):\n",
        "        if self.index >= self.n:\n",
        "            raise StopIteration\n",
        "        self.index += 1\n",
        "        self.a, self.b = self.b, self.a + self.b\n",
        "        return self.a\n",
        "\n",
        "# Example\n",
        "fib = Fibonacci(5)\n",
        "print(list(fib))  # Output: [1, 1, 2, 3, 5]"
      ],
      "metadata": {
        "id": "Jp8C5Z2U-Guf"
      },
      "execution_count": null,
      "outputs": []
    },
    {
      "cell_type": "code",
      "source": [
        "# 6. Write a generator function in Python that yields the powers of 2 up to a given exponent.\n",
        "\n",
        "def powers_of_2(max_exponent):\n",
        "    for i in range(max_exponent + 1):\n",
        "        yield 2**i\n",
        "\n",
        "# Example\n",
        "print(list(powers_of_2(3)))  # Output: [1, 2, 4, 8]"
      ],
      "metadata": {
        "id": "AFx4y3Qs-G-S"
      },
      "execution_count": null,
      "outputs": []
    },
    {
      "cell_type": "code",
      "source": [
        "# 7. Implement a generator function that reads a file line by line and yields each line as a string.\n",
        "\n",
        "def read_file(file_path):\n",
        "    with open(file_path) as f:\n",
        "        for line in f:\n",
        "            yield line.strip()\n",
        "\n",
        "# Example\n",
        "# for line in read_file(\"example.txt\"):\n",
        "#     print(line)\n"
      ],
      "metadata": {
        "id": "I8Qc5BKc-grR"
      },
      "execution_count": null,
      "outputs": []
    },
    {
      "cell_type": "code",
      "source": [
        "# 8. Use a lambda function in Python to sort a list of tuples based on the second element of each tuple.\n",
        "\n",
        "tuples = [(1, 3), (4, 2), (2, 5)]\n",
        "sorted_tuples = sorted(tuples, key=lambda x: x[1])\n",
        "print(sorted_tuples)  # Output: [(4, 2), (1, 3), (2, 5)]\n"
      ],
      "metadata": {
        "id": "7XhH3UaP-g-6"
      },
      "execution_count": null,
      "outputs": []
    },
    {
      "cell_type": "code",
      "source": [
        "# 9. Write a Python program that uses map() to convert a list of temperatures from Celsius to Fahrenheit.\n",
        "\n",
        "temps = [0, 20, 40]\n",
        "fahrenheit = list(map(lambda c: (c * 9/5) + 32, temps))\n",
        "print(fahrenheit)  # Output: [32.0, 68.0, 104.0]"
      ],
      "metadata": {
        "id": "kgXW7Mtf-u3F"
      },
      "execution_count": null,
      "outputs": []
    },
    {
      "cell_type": "code",
      "source": [
        "# 10. Create a Python program that uses filter() to remove all the vowels from a given string.\n",
        "\n",
        "def remove_vowels(s):\n",
        "    return ''.join(filter(lambda x: x.lower() not in 'aeiou', s))\n",
        "\n",
        "# Example\n",
        "print(remove_vowels(\"Hello World\"))  # Output: Hll Wrld\n"
      ],
      "metadata": {
        "id": "DuVVMtVg-u-N"
      },
      "execution_count": null,
      "outputs": []
    },
    {
      "cell_type": "code",
      "source": [
        "\"\"\"\n",
        "11. Write a Python program, which returns a list with 2-tuples. Each tuple consists of the order number and the\n",
        "product of the price per item and the quantity. The product should be increased by 10,- € if the value of the\n",
        "order is smaller than 100,00 €.\n",
        "\"\"\"\n",
        "\n",
        "orders = [\n",
        "    [34587, 4, 40.95],\n",
        "    [98762, 5, 56.80],\n",
        "    [77226, 3, 32.95],\n",
        "    [88112, 3, 24.95],\n",
        "]\n",
        "\n",
        "result = list(map(lambda x: (x[0], x[1] * x[2] + 10 if x[1] * x[2] < 100 else x[1] * x[2]), orders))\n",
        "print(result)\n"
      ],
      "metadata": {
        "id": "TOQbZCUaO6m7"
      },
      "execution_count": null,
      "outputs": []
    }
  ]
}